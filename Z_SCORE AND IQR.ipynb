{
 "cells": [
  {
   "cell_type": "markdown",
   "metadata": {},
   "source": [
    "# Z_SCORE IMPLEMENT"
   ]
  },
  {
   "cell_type": "code",
   "execution_count": 3,
   "metadata": {},
   "outputs": [],
   "source": [
    "import numpy as np\n",
    "import pandas as pd"
   ]
  },
  {
   "cell_type": "code",
   "execution_count": 2,
   "metadata": {},
   "outputs": [
    {
     "name": "stdout",
     "output_type": "stream",
     "text": [
      "[100]\n"
     ]
    }
   ],
   "source": [
    "outliers =[]\n",
    "def detect_outlier(suy):\n",
    "    thresold =3\n",
    "    mean=np.mean(suy)\n",
    "    std=np.std(suy)\n",
    "    \n",
    "    for i in suy:\n",
    "        z_score =(i-mean)/std\n",
    "        if np.abs(z_score)>thresold:\n",
    "            outliers.append(i)\n",
    "    return outliers\n",
    "\n",
    "\n",
    "dataset = [10,12,12,13,12,100,12,14,13,12,10,1,12,10,14,13,15,10]\n",
    "outlier =detect_outlier(dataset)\n",
    "print(outlier)"
   ]
  },
  {
   "cell_type": "markdown",
   "metadata": {},
   "source": [
    "# IQR IMPLEMENT"
   ]
  },
  {
   "cell_type": "code",
   "execution_count": 4,
   "metadata": {},
   "outputs": [],
   "source": [
    "import numpy as np\n",
    "import pandas as pd"
   ]
  },
  {
   "cell_type": "code",
   "execution_count": 7,
   "metadata": {},
   "outputs": [
    {
     "name": "stdout",
     "output_type": "stream",
     "text": [
      "[1, 100]\n"
     ]
    }
   ],
   "source": [
    "outliers =[]\n",
    "def detect_outlier(suy):\n",
    "    sorted(suy)\n",
    "    q1,q3=np.percentile(suy,[25,75])\n",
    "    iqr=q3-q1\n",
    "    lower_bound=q1-(1.5*iqr)\n",
    "    upper_bound =q3+(1.5*iqr)\n",
    "    for i in suy:\n",
    "        if i>lower_bound and i<upper_bound:\n",
    "            outliers.append(i)\n",
    "            outliers_points =list(set(suy)-set(outliers))\n",
    "    return outliers_points\n",
    "\n",
    "dataset = [10,12,12,13,12,100,12,14,13,12,10,1,12,10,14,13,15,10]\n",
    "\n",
    "print(detect_outlier(dataset))"
   ]
  },
  {
   "cell_type": "markdown",
   "metadata": {},
   "source": [
    "# CONCLUSION:-\n",
    "\n",
    "lower_bound is 6.5 and upper_bound is 18.5 . so, anything outside of 6.5 and 18.5 is an outlier."
   ]
  },
  {
   "cell_type": "markdown",
   "metadata": {},
   "source": [
    "# THANK YOU"
   ]
  }
 ],
 "metadata": {
  "kernelspec": {
   "display_name": "Python 3",
   "language": "python",
   "name": "python3"
  },
  "language_info": {
   "codemirror_mode": {
    "name": "ipython",
    "version": 3
   },
   "file_extension": ".py",
   "mimetype": "text/x-python",
   "name": "python",
   "nbconvert_exporter": "python",
   "pygments_lexer": "ipython3",
   "version": "3.8.1"
  }
 },
 "nbformat": 4,
 "nbformat_minor": 4
}
